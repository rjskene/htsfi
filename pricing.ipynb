{
 "cells": [
  {
   "cell_type": "markdown",
   "id": "otherwise-romance",
   "metadata": {},
   "source": [
    "# Loan Pricing #\n",
    "<hr class=\"header-line\"/>\n",
    "\n",
    "Pricing of a loan, just like any other product, is influenced by both the cost to produce and the market.\n",
    "\n",
    "<p class=\"p-break\"></p>\n",
    "\n",
    "And so there are two methods to deriving an interest rate for a loan:\n",
    "\n",
    "1. Capital-Driven:\n",
    "    + what interest rate is required to justify the allocation of capital?\n",
    "\n",
    "2. Market-Driven:\n",
    "    + what rate is implied in the market?\n",
    "    + derived from various market-related exposures\n",
    "    \n",
    "The two methods are *not* exclusive. Fico should consider both approaches when loan pricing as circumstances may reveal information:\n",
    "\n",
    "<p class=\"p-break\"></p>\n",
    "\n",
    "$\\text{Market-Driven Rate} >>> \\text{Capital Driven Rate}$\n",
    "\n",
    "+ Fico either has some competitive advantage *or* it is underpricing risk\n",
    "\n",
    "<p class=\"p-break\"></p>\n",
    "\n",
    "$\\text{Capital Driven Rate} >>> \\text{Market-Driven Rate}$\n",
    "\n",
    "+ Fico has a competitive disadvantage *or* it is overpricing risk\n",
    "\n",
    "<p class=\"p-break\"></p>\n",
    "<p class=\"p-break\"></p>"
   ]
  },
  {
   "cell_type": "markdown",
   "id": "cooked-shopping",
   "metadata": {},
   "source": [
    "## Capital Driven ##\n",
    "\n",
    "+ Loan income is compared to a *hurdle rate*, which can be set as the Weighted Average Cost of Capital (WACC) for the company/investor/project.\n",
    "\n",
    "$$\n",
    "\\text{WACC} = r_{tgt} = w_{debt}*r_{debt} + w_{equity}*r_{equity} \n",
    "$$\n",
    "$\\qquad\\qquad\\qquad\\qquad\\qquad\\textit{where:}$\n",
    "$$\n",
    "\\\\w_{debt} = \\frac{D}{D+E}\n",
    "$$\n",
    "\n",
    "$\\qquad$or simply as the cost of equity, to take the investor perspective:\n",
    "   \n",
    "$$ r_{tgt} = r_{equity} $$\n",
    "\n",
    "$\\qquad$ The hurdle rate may also be set relative to other investment opportunities (and thereby seen as an opportunity cost).\n",
    "\n",
    "<p class=\"p-break\"></p>\n",
    "\n",
    "+ The interest rate required *for an individual loan* to meet the hurdle rate is:\n",
    "\n",
    "$$\n",
    "\\begin{alignat*}{0}\n",
    "\\qquad\\text{int}_i = \\frac{r_{tgt}*(D_i+E_i) + exp_i}{EAD_i}\n",
    "\\\\\\textit{where:}\n",
    "\\\\\\qquad exp_i = \\text{expected losses + non-recovery related expenses like salaries, taxes, etc.}\n",
    "\\\\\\qquad D_i, E_i = \\text{debt and equity contribution required for the individual loan}\n",
    "\\\\\\qquad D_i + E_i = EAD_i\n",
    "\\end{alignat*}\n",
    "$$\n",
    "\n"
   ]
  },
  {
   "cell_type": "markdown",
   "id": "elementary-expression",
   "metadata": {},
   "source": [
    "**Equity Only**\n",
    "\n",
    "We will estimate pricing for loans where Fico is funded entirely by equity.\n",
    "\n",
    "<p class=\"p-break\"></p>\n",
    "\n",
    "Assume:\n",
    "\n",
    "+ $r_{tgt} = .12$\n",
    "+ $exp_i = EL_i$ i.e. Fico has no expenses save for loan losses\n",
    "+ Supported entirely by equity capital\n",
    "\n",
    "For this exercise, we created a new portfolio via the approach in [loss models](loss.ipynb) with the following properties:"
   ]
  },
  {
   "cell_type": "code",
   "execution_count": 1,
   "id": "illegal-novelty",
   "metadata": {
    "nbsphinx": "hidden"
   },
   "outputs": [],
   "source": [
    "%load_ext autoreload\n",
    "%autoreload 2\n",
    "\n",
    "import matplotlib.pyplot as plt\n",
    "from IPython.core.display import display, HTML, Markdown\n",
    "\n",
    "from htsfi.main import *\n",
    "\n",
    "update_style()\n",
    "plt.style.use('htsfi')"
   ]
  },
  {
   "cell_type": "code",
   "execution_count": 2,
   "id": "gorgeous-subject",
   "metadata": {
    "tags": [
     "hide_input"
    ]
   },
   "outputs": [
    {
     "data": {
      "text/markdown": [
       "+ Number of Loans: 20\n",
       "\n",
       "+ Total Outstanding: $2,000,000\n",
       "\n",
       "+ Expected Loss: $25,456.78\n",
       "\n",
       "+ Required Equity (99.95% VaR): $289,442.94\n",
       "\n"
      ],
      "text/plain": [
       "<IPython.core.display.Markdown object>"
      ]
     },
     "metadata": {},
     "output_type": "display_data"
    }
   ],
   "source": [
    "from IPython.core.display import HTML, display, Markdown\n",
    "\n",
    "import warnings\n",
    "\n",
    "with warnings.catch_warnings():\n",
    "    warnings.filterwarnings(\"ignore\")\n",
    "    \n",
    "    from htsfi.sims.pricing import *\n",
    "\n",
    "md = f'+ Number of Loans: {n}'\n",
    "md += '\\n\\n'\n",
    "md += f'+ Total Outstanding: ${EAD.sum():,.0f}'\n",
    "md += '\\n\\n'\n",
    "md += f'+ Expected Loss: ${ld.mean():,.2f}'\n",
    "md += '\\n\\n'\n",
    "md += f'+ Required Equity (99.95% VaR): ${econ_cap:,.2f}'\n",
    "md += '\\n\\n'\n",
    "\n",
    "display(Markdown(md))"
   ]
  },
  {
   "cell_type": "markdown",
   "id": "complimentary-restaurant",
   "metadata": {},
   "source": [
    "<p class=\"p-break\"></p>\n",
    "\n",
    "With that portfolio distribution, we now want to consider how to price 3 loans in the portfolio. The loans have details as follows:"
   ]
  },
  {
   "cell_type": "code",
   "execution_count": 3,
   "id": "excellent-holly",
   "metadata": {
    "tags": [
     "hide_input"
    ]
   },
   "outputs": [
    {
     "data": {
      "text/html": [
       "<table><thead><tr><th class=\"loan-table\"></th><th class=\"loan-table\">Loan 1</th> <th class=\"loan-table\">Loan 2</th> <th class=\"loan-table\">Loan 3</th></tr></thead><tbody><tr><td class=\"loan-table\">Amount</td><td class=\"loan-table\">230,724.18</td> <td class=\"loan-table\">158,870.11</td> <td class=\"loan-table\">110,405.71</td></tr><tr><td class=\"loan-table\">Probability<br>of<br>Default (PD)</td><td class=\"loan-table\">0.42%</td> <td class=\"loan-table\">0.17%</td> <td class=\"loan-table\">0.47%</td></tr><tr><td class=\"loan-table\">S&P<br>Rating</td><td class=\"loan-table\">BB</td> <td class=\"loan-table\">BBB-</td> <td class=\"loan-table\">BB</td></tr><tr><tr><td class=\"loan-table\">Loss Given<br>Default (LGD)</td><td class=\"loan-table\">64.25%</td> <td class=\"loan-table\">0.34%</td> <td class=\"loan-table\">0.00%</td></tr><td class=\"loan-table\">$\\sigma^2_{PD}$</td><td class=\"loan-table\">0.42%</td> <td class=\"loan-table\">0.17%</td> <td class=\"loan-table\">0.47%</td></tr><tr><td class=\"loan-table\">$\\sigma^2_{LGD}$</td><td class=\"loan-table\">9.12%</td> <td class=\"loan-table\">9.12%</td> <td class=\"loan-table\">9.12%</td></tr><tr><td class=\"loan-table\">Expected<br>Loss (EL)</td><td class=\"loan-table\">618.25</td> <td class=\"loan-table\">0.94</td> <td class=\"loan-table\">0.00</td></tr><tr><td class=\"loan-table\">Unexpected<br>Loss (UL)</td><td class=\"loan-table\">12,740.00</td> <td class=\"loan-table\">2,036.03</td> <td class=\"loan-table\">2,291.24</td></tr></tbody></table>"
      ],
      "text/plain": [
       "<IPython.core.display.HTML object>"
      ]
     },
     "metadata": {},
     "output_type": "display_data"
    }
   ],
   "source": [
    "from IPython.core.display import HTML, display\n",
    "\n",
    "# Loan Portfolio\n",
    "n = 3\n",
    "loans_t = 5*10**5\n",
    "randloans = np.random.uniform(0.1,1,n)\n",
    "loan_ead = (randloans / randloans.sum())*loans_t\n",
    "w = loan_ead / loan_ead.sum()\n",
    "\n",
    "# PD for each borrower/loan.\n",
    "pd_mu = 0.0044\n",
    "pd_std = 0.002\n",
    "p_of_d = np.random.normal(pd_mu, pd_std, n)\n",
    "count, bins = np.histogram(p_of_d, bins=PDs)\n",
    "binned = np.digitize(p_of_d, bins)\n",
    "rats = np.array(SPs)[binned]\n",
    "\n",
    "p_of_d = np.where(p_of_d<0, 0, p_of_d)\n",
    "\n",
    "pd_var = bern.var(p_of_d)     # PD for each individual loan is bernoulli distributed and has its own variance.\n",
    "\n",
    "# LGD\n",
    "lgd_mu = .4\n",
    "lgd_std = .4\n",
    "\n",
    "a, b = beta_params_from_descript(lgd_mu, lgd_std**2)\n",
    "lgd_freeze = beta(a, b)\n",
    "lgd = lgd_freeze.rvs(size=n)\n",
    "\n",
    "lgd_var = np.repeat(lgd.var(), n)\n",
    "\n",
    "el = loan_ead*p_of_d*lgd\n",
    "ul = loan_ul(loan_ead, p_of_d, lgd, pd_var, lgd_var)\n",
    "\n",
    "html = '<table>'\n",
    "html +=  '<thead>'\n",
    "html +=    '<tr>'\n",
    "html +=      '<th class=\"loan-table\"></th>'\n",
    "html +=      ' '.join([f'<th class=\"loan-table\">Loan {i + 1}</th>' for i in range(n)])\n",
    "html +=    '</tr>'\n",
    "html +=  '</thead>'\n",
    "html +=  '<tbody>'\n",
    "html +=    '<tr>'\n",
    "html +=      '<td class=\"loan-table\">Amount</td>'\n",
    "html +=      ' '.join([f'<td class=\"loan-table\">{val:,.2f}</td>' for val in loan_ead])\n",
    "html +=    '</tr>'\n",
    "html +=    '<tr>'\n",
    "html +=      '<td class=\"loan-table\">Probability<br>of<br>Default (PD)</td>'\n",
    "html +=      ' '.join([f'<td class=\"loan-table\">{val:.2%}</td>' for val in p_of_d])\n",
    "html +=    '</tr>'\n",
    "html +=    '<tr>'\n",
    "html +=      '<td class=\"loan-table\">S&P<br>Rating</td>'\n",
    "html +=      ' '.join([f'<td class=\"loan-table\">{val}</td>' for val in rats])\n",
    "html +=    '</tr>'\n",
    "html +=    '<tr>'\n",
    "html +=    '<tr>'\n",
    "html +=      '<td class=\"loan-table\">Loss Given<br>Default (LGD)</td>'\n",
    "html +=      ' '.join([f'<td class=\"loan-table\">{val:.2%}</td>' for val in lgd])\n",
    "html +=    '</tr>'\n",
    "html +=      r'<td class=\"loan-table\">$\\sigma^2_{PD}$</td>'\n",
    "html +=      ' '.join([f'<td class=\"loan-table\">{val:.2%}</td>' for val in pd_var])\n",
    "html +=    '</tr>'\n",
    "html +=    '<tr>'\n",
    "html +=      r'<td class=\"loan-table\">$\\sigma^2_{LGD}$</td>'\n",
    "html +=      ' '.join([f'<td class=\"loan-table\">{val:.2%}</td>' for val in lgd_var])\n",
    "html +=    '</tr>'\n",
    "html +=    '<tr>'\n",
    "html +=      '<td class=\"loan-table\">Expected<br>Loss (EL)</td>'\n",
    "html +=      ' '.join([f'<td class=\"loan-table\">{val:,.2f}</td>' for val in el])\n",
    "html +=    '</tr>'\n",
    "html +=    '<tr>'\n",
    "html +=      '<td class=\"loan-table\">Unexpected<br>Loss (UL)</td>'\n",
    "html +=      ' '.join([f'<td class=\"loan-table\">{val:,.2f}</td>' for val in ul])\n",
    "html +=    '</tr>'\n",
    "html +=  '</tbody>'\n",
    "html += '</table>'\n",
    "\n",
    "display(HTML(html))"
   ]
  },
  {
   "cell_type": "markdown",
   "id": "certified-daisy",
   "metadata": {},
   "source": [
    "We can do quick math on each loan to find the interest rate required to meet hurdle:"
   ]
  },
  {
   "cell_type": "code",
   "execution_count": 4,
   "id": "signal-collins",
   "metadata": {},
   "outputs": [],
   "source": [
    "def calc_ret(rev, exp, cap):\n",
    "    return (rev - exp) / cap\n",
    "\n",
    "def int_to_make_hurdle(exp, loan, equity, hurdle):\n",
    "    return (hurdle*equity + exp) / loan\n",
    "\n",
    "hurdle = .12\n",
    "exp = el\n",
    "\n",
    "debt = 0\n",
    "equity = loan_ead\n",
    "req_int = int_to_make_hurdle(exp, loan_ead, equity, hurdle)"
   ]
  },
  {
   "cell_type": "code",
   "execution_count": 5,
   "id": "joint-backing",
   "metadata": {
    "scrolled": true,
    "tags": [
     "hide_input"
    ]
   },
   "outputs": [
    {
     "data": {
      "text/html": [
       "<table class=\"loan-table\"><thead><tr><th class=\"loan-table\"></th><th class=\"loan-table\">Loan 1</th> <th class=\"loan-table\">Loan 2</th> <th class=\"loan-table\">Loan 3</th></tr></thead><tbody><tr><td class=\"loan-table\">Amount</td><td class=\"loan-table\">230,724.18</td> <td class=\"loan-table\">158,870.11</td> <td class=\"loan-table\">110,405.71</td></tr><tr><td class=\"loan-table\">Probability<br>of<br>Default (PD)</td><td class=\"loan-table\">0.42%</td> <td class=\"loan-table\">0.17%</td> <td class=\"loan-table\">0.47%</td></tr><tr><td class=\"loan-table\">Loss Given<br>Default (LGD)</td><td class=\"loan-table\">64.25%</td> <td class=\"loan-table\">0.34%</td> <td class=\"loan-table\">0.00%</td></tr><tr><td class=\"loan-table\">Expected<br>Loss (EL)</td><td class=\"loan-table\">618.25</td> <td class=\"loan-table\">0.94</td> <td class=\"loan-table\">0.00</td></tr><tr><td class=\"loan-table\">Required<br>Interest Rate</td><td class=\"loan-table\">12.27%</td> <td class=\"loan-table\">12.00%</td> <td class=\"loan-table\">12.00%</td></tr></tbody></table>"
      ],
      "text/plain": [
       "<IPython.core.display.HTML object>"
      ]
     },
     "metadata": {},
     "output_type": "display_data"
    }
   ],
   "source": [
    "from IPython.core.display import HTML, display\n",
    "\n",
    "html = '<table class=\"loan-table\">'\n",
    "html +=  '<thead>'\n",
    "html +=    '<tr>'\n",
    "html +=      '<th class=\"loan-table\"></th>'\n",
    "html +=      ' '.join([f'<th class=\"loan-table\">Loan {i + 1}</th>' for i in range(n)])\n",
    "html +=    '</tr>'\n",
    "html +=  '</thead>'\n",
    "html +=  '<tbody>'\n",
    "html +=    '<tr>'\n",
    "html +=      '<td class=\"loan-table\">Amount</td>'\n",
    "html +=      ' '.join([f'<td class=\"loan-table\">{val:,.2f}</td>' for val in loan_ead])\n",
    "html +=    '</tr>'\n",
    "html +=    '<tr>'\n",
    "html +=      '<td class=\"loan-table\">Probability<br>of<br>Default (PD)</td>'\n",
    "html +=      ' '.join([f'<td class=\"loan-table\">{val:.2%}</td>' for val in p_of_d])\n",
    "html +=    '</tr>'\n",
    "html +=    '<tr>'\n",
    "html +=      '<td class=\"loan-table\">Loss Given<br>Default (LGD)</td>'\n",
    "html +=      ' '.join([f'<td class=\"loan-table\">{val:.2%}</td>' for val in lgd])\n",
    "html +=    '</tr>'\n",
    "html +=    '<tr>'\n",
    "html +=      '<td class=\"loan-table\">Expected<br>Loss (EL)</td>'\n",
    "html +=      ' '.join([f'<td class=\"loan-table\">{val:,.2f}</td>' for val in el])\n",
    "html +=    '</tr>'\n",
    "html +=    '<tr>'\n",
    "html +=      '<td class=\"loan-table\">Required<br>Interest Rate</td>'\n",
    "html +=      ' '.join([f'<td class=\"loan-table\">{val:.2%}</td>' for val in req_int])\n",
    "html +=    '</tr>'\n",
    "html +=  '</tbody>'\n",
    "html += '</table>'\n",
    "\n",
    "display(HTML(html))"
   ]
  },
  {
   "cell_type": "markdown",
   "id": "artistic-footage",
   "metadata": {},
   "source": [
    "Unsurprisingly, even the lowest risk loan requires at least 12% interest rate. This is way above market for these types of loans.\n",
    "\n",
    "<p class=\"p-break\"></p>\n",
    "\n",
    "How then do we get a lower hurdle rate?\n",
    "\n",
    "1. Greedy-ass investor lowers their expectations\n",
    "\n",
    "2. Use leverage\n",
    "\n",
    "<p class=\"p-break\"></p>\n",
    "\n",
    "**Mix of Debt and Equity**\n",
    "\n",
    "To show how we can incorporate leverage, we modify our assumptions. For each loan, we will assume that we only need to hold the UL for each loan as equity. The rest of Fico's capital will be debt, borrowed at 3%.\n",
    "\n",
    "<p class=\"p-break\"></p>\n",
    "\n",
    "Assume:\n",
    "\n",
    "+ $r_{tgt} = .12$\n",
    "+ $E_i = UL_i$\n",
    "+ $D_i = EAD_i - E_i$\n",
    "+ $exp_i = EL_i + D_i*r_{debt}$\n",
    "+ $r_{debt} = .03$"
   ]
  },
  {
   "cell_type": "code",
   "execution_count": 6,
   "id": "surrounded-professional",
   "metadata": {},
   "outputs": [],
   "source": [
    "equity = ul\n",
    "debt = loan_ead - equity\n",
    "\n",
    "cost_of_debt = .03\n",
    "int_on_debt = debt * cost_of_debt\n",
    "exp = el + int_on_debt\n",
    "\n",
    "req_int = int_to_make_hurdle(exp, loan_ead, equity, hurdle)"
   ]
  },
  {
   "cell_type": "code",
   "execution_count": 7,
   "id": "later-approval",
   "metadata": {
    "tags": [
     "hide_input"
    ]
   },
   "outputs": [
    {
     "data": {
      "text/html": [
       "<table class=\"loan-table\"><thead><tr><th class=\"loan-table\"></th><th class=\"loan-table\">Loan 1</th> <th class=\"loan-table\">Loan 2</th> <th class=\"loan-table\">Loan 3</th></tr></thead><tbody><tr><td class=\"loan-table\">Amount</td><td class=\"loan-table\">230,724.18</td> <td class=\"loan-table\">158,870.11</td> <td class=\"loan-table\">110,405.71</td></tr><tr><td class=\"loan-table\">Probability<br>of<br>Default (PD)</td><td class=\"loan-table\">0.42%</td> <td class=\"loan-table\">0.17%</td> <td class=\"loan-table\">0.47%</td></tr><tr><td class=\"loan-table\">Loss Given<br>Default (LGD)</td><td class=\"loan-table\">64.25%</td> <td class=\"loan-table\">0.34%</td> <td class=\"loan-table\">0.00%</td></tr><tr><td class=\"loan-table\">Expected<br>Loss (EL)</td><td class=\"loan-table\">618.25</td> <td class=\"loan-table\">0.94</td> <td class=\"loan-table\">0.00</td></tr><tr><td class=\"loan-table\">Required<br>Interest Rate</td><td class=\"loan-table\">3.76%</td> <td class=\"loan-table\">3.12%</td> <td class=\"loan-table\">3.19%</td></tr></tbody></table>"
      ],
      "text/plain": [
       "<IPython.core.display.HTML object>"
      ]
     },
     "metadata": {},
     "output_type": "display_data"
    }
   ],
   "source": [
    "from IPython.core.display import HTML, display\n",
    "\n",
    "html = '<table class=\"loan-table\">'\n",
    "html +=  '<thead>'\n",
    "html +=    '<tr>'\n",
    "html +=      '<th class=\"loan-table\"></th>'\n",
    "html +=      ' '.join([f'<th class=\"loan-table\">Loan {i + 1}</th>' for i in range(n)])\n",
    "html +=    '</tr>'\n",
    "html +=  '</thead>'\n",
    "html +=  '<tbody>'\n",
    "html +=    '<tr>'\n",
    "html +=      '<td class=\"loan-table\">Amount</td>'\n",
    "html +=      ' '.join([f'<td class=\"loan-table\">{val:,.2f}</td>' for val in loan_ead])\n",
    "html +=    '</tr>'\n",
    "html +=    '<tr>'\n",
    "html +=      '<td class=\"loan-table\">Probability<br>of<br>Default (PD)</td>'\n",
    "html +=      ' '.join([f'<td class=\"loan-table\">{val:.2%}</td>' for val in p_of_d])\n",
    "html +=    '</tr>'\n",
    "html +=    '<tr>'\n",
    "html +=      '<td class=\"loan-table\">Loss Given<br>Default (LGD)</td>'\n",
    "html +=      ' '.join([f'<td class=\"loan-table\">{val:.2%}</td>' for val in lgd])\n",
    "html +=    '</tr>'\n",
    "html +=    '<tr>'\n",
    "html +=      '<td class=\"loan-table\">Expected<br>Loss (EL)</td>'\n",
    "html +=      ' '.join([f'<td class=\"loan-table\">{val:,.2f}</td>' for val in el])\n",
    "html +=    '</tr>'\n",
    "html +=    '<tr>'\n",
    "html +=      '<td class=\"loan-table\">Required<br>Interest Rate</td>'\n",
    "html +=      ' '.join([f'<td class=\"loan-table\">{val:.2%}</td>' for val in req_int])\n",
    "html +=    '</tr>'\n",
    "html +=  '</tbody>'\n",
    "html += '</table>'\n",
    "\n",
    "display(HTML(html))"
   ]
  },
  {
   "cell_type": "markdown",
   "id": "supposed-titanium",
   "metadata": {},
   "source": [
    "We can see how the mix of debt and equity has helped to improve loan pricing, which should make Fico more competitive in the market place.\n",
    "\n",
    "<p class=\"p-break\"></p>\n"
   ]
  },
  {
   "cell_type": "markdown",
   "id": "recreational-april",
   "metadata": {},
   "source": [
    "## Market Driven ##\n",
    "\n",
    "+ TBD"
   ]
  },
  {
   "cell_type": "code",
   "execution_count": null,
   "id": "military-terrorist",
   "metadata": {
    "nbsphinx": "hidden"
   },
   "outputs": [],
   "source": [
    "%%javascript\n",
    "IPython.notebook.save_notebook()"
   ]
  },
  {
   "cell_type": "code",
   "execution_count": null,
   "id": "massive-stand",
   "metadata": {
    "nbsphinx": "hidden"
   },
   "outputs": [],
   "source": [
    "%load_ext autoreload\n",
    "%autoreload 2\n",
    "\n",
    "from htsfi.main import *\n",
    "\n",
    "move_to_doc_folder('pricing.ipynb')"
   ]
  },
  {
   "cell_type": "code",
   "execution_count": null,
   "id": "computational-filling",
   "metadata": {
    "nbsphinx": "hidden"
   },
   "outputs": [],
   "source": []
  }
 ],
 "metadata": {
  "celltoolbar": "Edit Metadata",
  "kernelspec": {
   "display_name": "Python 3",
   "language": "python",
   "name": "python3"
  },
  "language_info": {
   "codemirror_mode": {
    "name": "ipython",
    "version": 3
   },
   "file_extension": ".py",
   "mimetype": "text/x-python",
   "name": "python",
   "nbconvert_exporter": "python",
   "pygments_lexer": "ipython3",
   "version": "3.8.6"
  }
 },
 "nbformat": 4,
 "nbformat_minor": 5
}
