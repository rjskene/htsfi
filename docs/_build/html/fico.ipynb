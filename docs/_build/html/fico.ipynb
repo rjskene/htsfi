{
 "cells": [
  {
   "cell_type": "markdown",
   "id": "dynamic-movement",
   "metadata": {},
   "source": [
    "# FICOs for Dumm ... I mean, Engineers #\n",
    "<hr class=\"header-line\"/>\n",
    "\n",
    "*Note from the Author: too soon to start chirping???*\n",
    "\n",
    "<p class=\"p-break\"></p>\n",
    "    \n",
    "*Opco* is a group of operating companies in multiple locations that sell stuff\n",
    "\n",
    "*Fico* is a start-up finance company that finances the stuff that Opco sells\n",
    "\n",
    "<p class=\"p-break\"></p>"
   ]
  },
  {
   "cell_type": "markdown",
   "id": "otherwise-rouge",
   "metadata": {},
   "source": [
    "## Info Needed ##\n",
    "\n",
    "Internally, must gather best estimate of:\n",
    "\n",
    "+ opportunity size\n",
    "+ market value depreciation curves of different equipment\n",
    "+ which products can be repo'd and which can't?\n",
    "+ recovery costs"
   ]
  },
  {
   "cell_type": "markdown",
   "id": "quality-meeting",
   "metadata": {},
   "source": [
    "## Why does Opco need a Fico? ##\n",
    "\n",
    "1. Increased sales for Opco\n",
    "    + new customers, new markets\n",
    "    + expanded resale market\n",
    "    + broader service offering for existing customers\n",
    "    \n",
    "2. Fico can be a profitable venture in its own right\n",
    "    + Opco has several advantages (vs true FIs) that should enhance profitability\n",
    "    + as Fico grows, potential for senior bank financing would further enhance Fico value\n",
    "    "
   ]
  },
  {
   "cell_type": "markdown",
   "id": "young-hopkins",
   "metadata": {},
   "source": [
    "## Opco Advantages ##\n",
    "\n",
    "Opco has several advantages in financing versus standalone finance companies.\n",
    "<p class=\"p-break\"></p>\n",
    "\n",
    "**Existing Customer Relationships**\n",
    "\n",
    "+ financing product for long-term existing customers should decrease risk\n",
    "+ knowledge and comfort with customer's business practices\n",
    "+ reputational incentive of customer to make loan payments\n",
    "+ reputational considerations work both ways, however. Fico must be very careful to treat good customers appropriately.\n",
    "\n",
    "**Understanding Asset Value**\n",
    "\n",
    "+ market experts have better visibility to ongoing asset values\n",
    "+ know what products are / are not susceptible to obsolescence\n",
    "+ better risk profile of loans\n",
    "+ better market pricing\n",
    "\n",
    "**Profit from Resale**\n",
    "\n",
    "+ if opco products can be resold, potential to profit *again* from a repossessed piece of equipment\n",
    "+ additional considerations:\n",
    "    + inventory management (handling, storage, impact on working capital)\n",
    "    + product obsolescence"
   ]
  },
  {
   "cell_type": "markdown",
   "id": "touched-birthday",
   "metadata": {},
   "source": [
    "## Loan Types ##\n",
    "\n",
    "Fico will engage in a handful of loan types, distinguished by their structure and risk profile.\n",
    "<p class=\"p-break\"><p>\n",
    "\n",
    "**Core**\n",
    "\n",
    "+ bread and butter equipment finance\n",
    "+ serial numbered goods that are common and readily tradeable (where possible)\n",
    "+ sales for existing buildings, for parts and maintenance\n",
    "+ good portfolio diversification\n",
    "+ good asset value visibility\n",
    "\n",
    "**Environmental / Incentive-Induced**\n",
    "    \n",
    "+ equipment purchases incentivized by government programs\n",
    "+ incentive typically involves a tax credit\n",
    "+ similar to core, with opportunity to transfer tax credit etc\n",
    "+ adds a wrinkle to the profit assessment (potentially much higher) and risk assessment (also potentially higher, as there is likely some uncertainty around whether customer will actually receive the incentive)\n",
    "\n",
    "**Off-Site Builds**\n",
    "   \n",
    "+ larger, more complex products\n",
    "+ several additional complications offset by potential for greater profit\n",
    "+ what portion of the build is truly modular and can be repossessed?\n",
    "+ what is the prevailing resale market?\n",
    "+ How unique is any one modular build? Impacts how closely the ongoing value of any one build must be monitored.\n",
    "+ Consideration around security: is the modular build distinct from the building, legally speaking. Rights to building fixtures at times can be disputed. May need to confirm or get acknowledgements from first morgtagers \n",
    "    \n",
    "**Other**\n",
    "    \n",
    "+ Who knows????"
   ]
  },
  {
   "cell_type": "markdown",
   "id": "expensive-tribe",
   "metadata": {},
   "source": [
    "## Evaluating Investment in Fico ##\n",
    "\n",
    "There are three main considerations that will be explored in greater detail below.\n",
    "<p class=\"p-break\"></p>\n",
    "\n",
    "1. How much capital should Opco invest in Fico, both initially and ongoing?\n",
    "    + requires risk modeling, growth plan\n",
    "\n",
    "2. What is return on invested capital in Fico?\n",
    "    + requires risk modeling, growth plan\n",
    "    + what is loan hurdle rate? \n",
    "    \n",
    "3. What is impact on Opco Working Capital and liquidity for other needs?\n",
    "    + must be incorporate in Opco projections\n",
    "    + investing any amount of capital will, at the time of investment, reduce working capital\n",
    "    + over time, fico can accumulate its own equity to reduce this strain\n",
    "    + over time, fico can obtain 3rd party funding\n",
    "\n",
    "**Other Considerations / Needs**\n",
    "\n",
    "+ Loss Model\n",
    "+ Competitive Environment\n",
    "    + many of Opco's competitors or businesses in related industry have finance divisions.\n",
    "        + [Enercare Commercial Loan Contract](https://www.enercare.ca/sites/default/files/assets/library/builder/pdfs/3.2_enercare_commercial_hvac_contract_tc.pdf)\n",
    "        + [Johnson Controls focused on energy retrofits](https://www.johnsoncontrols.com/-/media/jci/be/united-states/services-and-support/optimization-and-retrofit-services/files/be_brochure_energyretrofits.pdf?la=en&hash=C9A5588A5E92E125EAAF7480C0DAECF42086FD0B)\n",
    "        + [Johnson Controls financing brochure](https://www.johnsoncontrols.com/-/media/jci/be/united-states/services-and-support/financing/files/be_overview_equipfinancing.pdf?la=en)\n",
    "\n",
    "    + what kind of credit facilities are available for these types of assets?\n",
    "        + not much in Canada but BDCs, private lenders, even Banks in the US\n",
    "+ Capital / Corporate Structure\n",
    "    + whose capital?\n",
    "        + how to track what Opcos are providing capital? \n",
    "        + should it be \"allocated\" (using brown dollars perhaps) according to use/need? \n",
    "        + should one opco act as the bank for all others?\n",
    "        + e.g. if loan made to Opco NY customer, use Opco NY capital, or Opco ONT capital, or mix?\n",
    "    + fico as separate legal entity?\n",
    "        + more clearly see opco and fico liquidity positions\n",
    "        + more clearly see return on fico investments\n",
    "        + brown dollar fico-supported sales\n",
    "        + maybe has liability benefits?\n",
    "        + 3rd party funding advantages / disadvantages?\n",
    "    + Capital Mix\n",
    "        + ficos generally have high leverage (relative to opcos) with debt funding provided by depositors (banks) or other FIs (large equipment finance companies use securitization etc.).\n",
    "        + at startup, if Fico is funded entirely with Equity, its return hurdles will be too high to be competitive in the market.\n",
    "        + Solution: Opco could fund Fico with *both* Debt and Equity\n",
    "        + Opco debt would charge prevailing market interest rate\n",
    "        + In addition, Opco debt would receive any of the additional sales thanks to fico.\n",
    "        + Can model returns on both Opco Debt and Equity to see if appropriate.\n",
    "        + this mix can be explicitly achieved with separate companies, or achieved through brown dollars\n",
    "+ Regional Differences\n",
    "    + all regions in which Opco operates will have unique considerations in terms contracts, security, repossession, environmental incentives, etc.\n",
    "\n",
    "+ Implementation\n",
    "    + start with existing customers\n",
    "        + strong, broader relationship should improved credit performance\n",
    "    + start with smaller loans in core segments; increases likelihood of success in short term\n",
    "    + start in only one or two main jurisdictions\n",
    "    + start with very narrow sales team (maybe just one person)\n",
    "        + would reduce issues with communication\n",
    "\n",
    "+ Administration\n",
    "    + Documentation\n",
    "        + loan / lease agreement drafted by lawyer\n",
    "        + registration of financing statements (PPSA / UCC)\n",
    "        + PAD document\n",
    "    + Collection\n",
    "        + could piggyback on current process for ARs\n",
    "        + may need to add bulk, periodic EFT pulls (via bank/Ceridian)\n",
    "    + Realization\n",
    "        + should partner with 3rd party provider(s) to handle pickup, transportation, etc.\n",
    "          as required\n",
    "        + questions around repossession: can go on property to collect? what process?\n",
    "    + Storage\n",
    "        + does repossessed equipment get resold / stored / destroyed?\n",
    "        + If stored, where, for how long, and for how much?\n",
    "\n",
    "+ Lease or Loan?\n",
    "    + TBD"
   ]
  },
  {
   "cell_type": "code",
   "execution_count": null,
   "id": "parental-hebrew",
   "metadata": {
    "nbsphinx": "hidden"
   },
   "outputs": [],
   "source": [
    "%%javascript\n",
    "IPython.notebook.save_notebook()"
   ]
  },
  {
   "cell_type": "code",
   "execution_count": 18,
   "id": "sweet-production",
   "metadata": {
    "nbsphinx": "hidden"
   },
   "outputs": [
    {
     "name": "stdout",
     "output_type": "stream",
     "text": [
      "The autoreload extension is already loaded. To reload it, use:\n",
      "  %reload_ext autoreload\n"
     ]
    }
   ],
   "source": [
    "%load_ext autoreload\n",
    "%autoreload 2\n",
    "\n",
    "from htsfi.main import *\n",
    "\n",
    "move_to_doc_folder('fico.ipynb')"
   ]
  },
  {
   "cell_type": "code",
   "execution_count": null,
   "id": "sealed-journalist",
   "metadata": {
    "nbsphinx": "hidden"
   },
   "outputs": [],
   "source": []
  }
 ],
 "metadata": {
  "celltoolbar": "Edit Metadata",
  "kernelspec": {
   "display_name": "Python 3",
   "language": "python",
   "name": "python3"
  },
  "language_info": {
   "codemirror_mode": {
    "name": "ipython",
    "version": 3
   },
   "file_extension": ".py",
   "mimetype": "text/x-python",
   "name": "python",
   "nbconvert_exporter": "python",
   "pygments_lexer": "ipython3",
   "version": "3.8.6"
  }
 },
 "nbformat": 4,
 "nbformat_minor": 5
}
