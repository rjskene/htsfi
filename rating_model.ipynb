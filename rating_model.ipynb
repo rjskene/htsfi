{
 "cells": [
  {
   "cell_type": "markdown",
   "id": "white-stuff",
   "metadata": {},
   "source": [
    "# Risk Rating #"
   ]
  },
  {
   "cell_type": "markdown",
   "id": "egyptian-blackberry",
   "metadata": {},
   "source": [
    "+ How to determine credit rating of borrower?\n",
    "\n",
    "+ Financial Analysis\n",
    "    + 3-year financial statements\n",
    "    + isolate 3/4/5 key factors\n",
    "    + tailored to company / industry segment where possible\n",
    "        + for now, just general and real estate holdco models\n",
    "+ Qualitative Factors: customer relationship, historical payment record\n",
    "    + up/downgrade based on subjective assessment"
   ]
  },
  {
   "cell_type": "markdown",
   "id": "dying-allah",
   "metadata": {},
   "source": [
    "#### CODE REQUIRES ####\n",
    "\n",
    "+ Base Risk Model Template\n",
    "+ Child Models that inheret\n",
    "+ Standardized driver calculations\n",
    "+ Each model needs transform equation between driver values and relative contribution\n",
    "    + each driver has:\n",
    "        + min and max values to establish bounded range\n",
    "        + transformation to 1 - 10 scale; 1 being lowest risk and 10 being highest risk"
   ]
  },
  {
   "cell_type": "code",
   "execution_count": 1,
   "id": "through-happening",
   "metadata": {},
   "outputs": [],
   "source": [
    "%load_ext autoreload\n",
    "%autoreload 2"
   ]
  },
  {
   "cell_type": "code",
   "execution_count": 2,
   "id": "sustained-injury",
   "metadata": {},
   "outputs": [],
   "source": [
    "import numpy as np\n",
    "import pandas as pd"
   ]
  },
  {
   "cell_type": "code",
   "execution_count": 3,
   "id": "short-boards",
   "metadata": {},
   "outputs": [],
   "source": [
    "from htsfi.rating import drivers\n",
    "from htsfi.rating.models import AllIndustries, Wholesale, Service"
   ]
  },
  {
   "cell_type": "code",
   "execution_count": 4,
   "id": "removed-illinois",
   "metadata": {},
   "outputs": [],
   "source": [
    "rev = 350\n",
    "cogs = 340\n",
    "opex = 65\n",
    "amort = 100\n",
    "ebitda = rev - cogs - opex + amort\n",
    "ffo = ebitda\n",
    "interest = 50\n",
    "otherinc = 25\n",
    "nibt = ebitda - amort - interest + otherinc\n",
    "r_n_d = 50\n",
    "capleases = 75\n",
    "\n",
    "debt = 500\n",
    "capital = 350\n",
    "total_assets = 1000"
   ]
  },
  {
   "cell_type": "code",
   "execution_count": 5,
   "id": "limited-collar",
   "metadata": {},
   "outputs": [],
   "source": [
    "allind = AllIndustries(\n",
    "    amort, capital, capleases, cogs, debt, ebitda, ffo,\n",
    "    interest, nibt, opex, otherinc, r_n_d, rev,\n",
    "    total_assets\n",
    ")"
   ]
  },
  {
   "cell_type": "code",
   "execution_count": 6,
   "id": "selective-discipline",
   "metadata": {},
   "outputs": [
    {
     "name": "stdout",
     "output_type": "stream",
     "text": [
      "0.0053 51 BB+\n"
     ]
    }
   ],
   "source": [
    "allind.display()"
   ]
  },
  {
   "cell_type": "code",
   "execution_count": 4,
   "id": "unexpected-viking",
   "metadata": {},
   "outputs": [],
   "source": [
    "xl = pd.ExcelFile('historical.xlsx')"
   ]
  },
  {
   "cell_type": "code",
   "execution_count": 5,
   "id": "blank-albuquerque",
   "metadata": {},
   "outputs": [],
   "source": [
    "istat = xl.parse('istat', index_col=0)\n",
    "bs = xl.parse('bs', index_col=0)"
   ]
  },
  {
   "cell_type": "code",
   "execution_count": 6,
   "id": "familiar-charger",
   "metadata": {},
   "outputs": [],
   "source": [
    "split_rows = np.argwhere(bs.isna().all(axis=1).values)"
   ]
  },
  {
   "cell_type": "code",
   "execution_count": 7,
   "id": "australian-missile",
   "metadata": {},
   "outputs": [],
   "source": [
    "current_assets, lt_assets, curr_l, lt_l, equity = np.split(bs, split_rows.flatten(), axis=0)"
   ]
  },
  {
   "cell_type": "code",
   "execution_count": 8,
   "id": "amateur-matrix",
   "metadata": {},
   "outputs": [],
   "source": [
    "capital = equity.dropna().sum()[2020]\n",
    "\n",
    "debt = (lt_l.dropna().sum() + curr_l.iloc[-3:-1].sum())[2020]\n",
    "debt = (equity.iloc[1][2020] + debt)\n",
    "\n",
    "ebitdas = istat.loc['Revenue'] - istat.loc['COGS'] - istat.loc['Opex'] + istat.loc['Otherinc']\n",
    "ebitda = ebitdas[2020]\n",
    "\n",
    "interest = istat.loc['interest', 2020]\n",
    "rev = istat.loc['Revenue', 2020]\n",
    "rev_1 = istat.loc['Revenue', 2019]\n",
    "total_assets = current_assets[2020].sum() + lt_assets[2020].sum()"
   ]
  },
  {
   "cell_type": "code",
   "execution_count": 9,
   "id": "legal-discussion",
   "metadata": {},
   "outputs": [],
   "source": [
    "whole = Wholesale(capital, debt, ebitda, interest, rev, rev_1, total_assets)"
   ]
  },
  {
   "cell_type": "code",
   "execution_count": 10,
   "id": "varied-iraqi",
   "metadata": {},
   "outputs": [
    {
     "name": "stdout",
     "output_type": "stream",
     "text": [
      "0.0017 41 BBB+\n"
     ]
    }
   ],
   "source": [
    "whole.display()"
   ]
  },
  {
   "cell_type": "code",
   "execution_count": 178,
   "id": "touched-company",
   "metadata": {},
   "outputs": [
    {
     "data": {
      "text/plain": [
       "[Interest Cover: 28.911253430924063 / 1.3266239707227818,\n",
       " EBITDA Margin: 0.05808823529411765 / 7.970852215231642,\n",
       " Revenue Growth: -0.005484460694698323 / 6.846039165693783,\n",
       " Debt to Capital: 0.11532128947278777 / 2.092517479215884,\n",
       " Total Assets: 5.381154627356524 / 5.086860759419617]"
      ]
     },
     "execution_count": 178,
     "metadata": {},
     "output_type": "execute_result"
    }
   ],
   "source": [
    "whole.drivers"
   ]
  },
  {
   "cell_type": "code",
   "execution_count": 25,
   "id": "matched-mobile",
   "metadata": {},
   "outputs": [],
   "source": [
    "multiple = 5\n",
    "debt_ead = 48"
   ]
  },
  {
   "cell_type": "code",
   "execution_count": 27,
   "id": "damaged-master",
   "metadata": {},
   "outputs": [],
   "source": [
    "coll_cov = ebitda*5*.5 / debt_ead"
   ]
  },
  {
   "cell_type": "code",
   "execution_count": 29,
   "id": "accurate-block",
   "metadata": {},
   "outputs": [],
   "source": [
    "coll_cov_ev = [.37, .53, .63, .77, .97, 1.75, 3]\n",
    "coll_cov_ev = np.stack((coll_cov_ev[:-1], coll_cov_ev[1:])).T"
   ]
  },
  {
   "cell_type": "code",
   "execution_count": 30,
   "id": "insured-center",
   "metadata": {},
   "outputs": [
    {
     "data": {
      "text/plain": [
       "'5 year average EBITDA as multiple of outstanding debt / discounted by .3 - .7'"
      ]
     },
     "execution_count": 30,
     "metadata": {},
     "output_type": "execute_result"
    }
   ],
   "source": [
    "lgd_rating_ev = ['K', 'J', 'I', 'H', 'G', 'F', 'E', 'D']\n",
    "\"\"\"5 year average EBITDA as multiple of outstanding debt / discounted by .3 - .7\"\"\""
   ]
  },
  {
   "cell_type": "code",
   "execution_count": 31,
   "id": "israeli-stick",
   "metadata": {},
   "outputs": [
    {
     "data": {
      "text/plain": [
       "array([[0.37, 0.53],\n",
       "       [0.53, 0.63],\n",
       "       [0.63, 0.77],\n",
       "       [0.77, 0.97],\n",
       "       [0.97, 1.75],\n",
       "       [1.75, 3.  ]])"
      ]
     },
     "execution_count": 31,
     "metadata": {},
     "output_type": "execute_result"
    }
   ],
   "source": [
    "coll_cov_ev"
   ]
  },
  {
   "cell_type": "code",
   "execution_count": 41,
   "id": "promising-investigator",
   "metadata": {},
   "outputs": [
    {
     "name": "stdout",
     "output_type": "stream",
     "text": [
      "1 [0.37 0.53]\n",
      "2 [0.53 0.63]\n",
      "3 [0.63 0.77]\n",
      "4 [0.77 0.97]\n",
      "5 [0.97 1.75]\n"
     ]
    }
   ],
   "source": [
    "if coll_cov < coll_cov_ev[0,0]:\n",
    "    idx = 0  \n",
    "else: \n",
    "    idx = len(lgd_rating_ev) - 1\n",
    "    for i in range(1, coll_cov_ev.shape[0]):\n",
    "        bounds = coll_cov_ev[i-1]\n",
    "        print (i, bounds)\n",
    "        if coll_cov >= bounds[0] and coll_cov < bounds[1]:\n",
    "            idx = i\n",
    "            break"
   ]
  },
  {
   "cell_type": "code",
   "execution_count": 42,
   "id": "further-drinking",
   "metadata": {},
   "outputs": [
    {
     "data": {
      "text/plain": [
       "'F'"
      ]
     },
     "execution_count": 42,
     "metadata": {},
     "output_type": "execute_result"
    }
   ],
   "source": [
    "lgd_rating_ev[idx]"
   ]
  },
  {
   "cell_type": "code",
   "execution_count": 43,
   "id": "bridal-shanghai",
   "metadata": {},
   "outputs": [
    {
     "data": {
      "text/plain": [
       "'SAME GRID AS EV!!!!'"
      ]
     },
     "execution_count": 43,
     "metadata": {},
     "output_type": "execute_result"
    }
   ],
   "source": [
    "\"Properites: resi: 75% LGD / Commerical/INdustrial 60% with +/- 5/10% on various characteristics\"\n"
   ]
  },
  {
   "cell_type": "code",
   "execution_count": 51,
   "id": "breeding-playback",
   "metadata": {},
   "outputs": [],
   "source": [
    "amort = istat.loc['Amort', 2020]"
   ]
  },
  {
   "cell_type": "code",
   "execution_count": 54,
   "id": "consolidated-determination",
   "metadata": {},
   "outputs": [],
   "source": [
    "ar = current_assets.loc['A/R', 2020]"
   ]
  },
  {
   "cell_type": "code",
   "execution_count": 55,
   "id": "neural-endorsement",
   "metadata": {},
   "outputs": [],
   "source": [
    "serv = Service(\n",
    "    amort, ar, capital, capleases, cogs, debt, ebitda, interest, nibt,\n",
    "    opex, otherinc, r_n_d, rev, total_assets\n",
    ")"
   ]
  },
  {
   "cell_type": "code",
   "execution_count": 56,
   "id": "governing-spencer",
   "metadata": {},
   "outputs": [
    {
     "name": "stdout",
     "output_type": "stream",
     "text": [
      "0.0034 47 BBB-\n"
     ]
    }
   ],
   "source": [
    "serv.display()"
   ]
  },
  {
   "cell_type": "code",
   "execution_count": null,
   "id": "cordless-renewal",
   "metadata": {},
   "outputs": [],
   "source": []
  }
 ],
 "metadata": {
  "kernelspec": {
   "display_name": "Python 3",
   "language": "python",
   "name": "python3"
  },
  "language_info": {
   "codemirror_mode": {
    "name": "ipython",
    "version": 3
   },
   "file_extension": ".py",
   "mimetype": "text/x-python",
   "name": "python",
   "nbconvert_exporter": "python",
   "pygments_lexer": "ipython3",
   "version": "3.8.6"
  }
 },
 "nbformat": 4,
 "nbformat_minor": 5
}
