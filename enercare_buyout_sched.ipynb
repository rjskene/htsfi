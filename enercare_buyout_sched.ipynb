{
 "cells": [
  {
   "cell_type": "code",
   "execution_count": 6,
   "id": "electrical-parent",
   "metadata": {},
   "outputs": [],
   "source": [
    "import os\n",
    "import pandas as pd\n",
    "import pdfplumber\n",
    "\n",
    "agrmnt = os.path.join(os.getcwd(), '3.2_enercare_commercial_hvac_contract_tc.pdf')"
   ]
  },
  {
   "cell_type": "code",
   "execution_count": 7,
   "id": "electrical-transcription",
   "metadata": {},
   "outputs": [],
   "source": [
    "with pdfplumber.open(agrmnt) as pdf:\n",
    "    page = pdf.pages[1]\n",
    "    table = page.extract_table()"
   ]
  },
  {
   "cell_type": "code",
   "execution_count": 8,
   "id": "armed-machinery",
   "metadata": {},
   "outputs": [],
   "source": [
    "sched = pd.DataFrame(table[2:], columns=['Age', 'Buyout Price']*2)"
   ]
  },
  {
   "cell_type": "code",
   "execution_count": 9,
   "id": "naked-bridges",
   "metadata": {},
   "outputs": [],
   "source": [
    "sched = pd.concat((sched.iloc[:, :2], sched.iloc[:, 2:]))\n",
    "sched = sched.reset_index(drop=True)"
   ]
  },
  {
   "cell_type": "code",
   "execution_count": 10,
   "id": "resident-looking",
   "metadata": {},
   "outputs": [],
   "source": [
    "sched['Buyout Price'] = sched['Buyout Price'].str.replace('%', '').astype('float') / 100"
   ]
  },
  {
   "cell_type": "code",
   "execution_count": 11,
   "id": "partial-innocent",
   "metadata": {},
   "outputs": [],
   "source": [
    "sched.Age = sched.index.values\n",
    "sched = sched.set_index('Age')"
   ]
  },
  {
   "cell_type": "code",
   "execution_count": 12,
   "id": "retained-sweden",
   "metadata": {},
   "outputs": [
    {
     "data": {
      "image/png": "[encoded data removed]",
      "text/plain": [
       "<Figure size 432x288 with 1 Axes>"
      ]
     },
     "metadata": {
      "needs_background": "light"
     },
     "output_type": "display_data"
    }
   ],
   "source": [
    "import matplotlib.pyplot as plt\n",
    "\n",
    "plt.plot(sched)\n",
    "plt.show()"
   ]
  }
 ],
 "metadata": {
  "celltoolbar": "Edit Metadata",
  "kernelspec": {
   "display_name": "Python 3",
   "language": "python",
   "name": "python3"
  },
  "language_info": {
   "codemirror_mode": {
    "name": "ipython",
    "version": 3
   },
   "file_extension": ".py",
   "mimetype": "text/x-python",
   "name": "python",
   "nbconvert_exporter": "python",
   "pygments_lexer": "ipython3",
   "version": "3.8.6"
  }
 },
 "nbformat": 4,
 "nbformat_minor": 5
}
