{
 "cells": [
  {
   "cell_type": "markdown",
   "id": "white-stuff",
   "metadata": {},
   "source": [
    "# Capital Allocation #"
   ]
  },
  {
   "cell_type": "markdown",
   "id": "anonymous-message",
   "metadata": {},
   "source": [
    "##### random thoughts #####\n",
    "+ trying to determine required rate of return and capital allocation model for HTS in general and HTSFI specifically\n",
    "\n",
    "+ what is fortress level of equity for working capital?\n",
    "    + any equity left over?\n",
    "    + must consider fat tails events\n",
    "    \n",
    "+ if any equity leftover, how best to deploy\n",
    "\n",
    "\n",
    "+ Capital Required for the Business can be "
   ]
  },
  {
   "cell_type": "markdown",
   "id": "cellular-empty",
   "metadata": {},
   "source": [
    "[working capital](https://www.researchgate.net/publication/44812775_Working_capital_management_theory_and_evidence_from_New_Zealand_listed_limited_liability_companies)"
   ]
  },
  {
   "cell_type": "markdown",
   "id": "western-chest",
   "metadata": {},
   "source": [
    "<table>\n",
    "<thead>\n",
    "<tr>\n",
    "    <th>Project Characteristics</th>\n",
    "    <th>Cost of Debt</th>\n",
    "    <th>Debt Ratio</th>\n",
    "</tr>\n",
    "</thead>\n",
    "<tbody>\n",
    "    <tr>\n",
    "        <td>Project Small / Same</td><td>Firm's</td><td>Firm's</td>\n",
    "    </tr>\n",
    "    <tr>\n",
    "        <td>Project Large / Different</td><td>Firm's or Comp</td><td>Comp</td>\n",
    "    </tr>\n",
    "    <tr>\n",
    "        <td>Standalone</td><td>Project</td><td>Project</td>\n",
    "    </tr>\n",
    "</tbody>    \n",
    "</table>"
   ]
  },
  {
   "cell_type": "code",
   "execution_count": 1,
   "id": "sustained-injury",
   "metadata": {},
   "outputs": [],
   "source": [
    "import numpy as np\n",
    "import matplotlib.pyplot as plt"
   ]
  },
  {
   "cell_type": "code",
   "execution_count": 2,
   "id": "dress-redhead",
   "metadata": {},
   "outputs": [],
   "source": [
    "def opmarg_calc(rev, cogs, opex, amort, otherinc=0, rnd=0, **kwargs):\n",
    "    num = rev - cogs + otherinc - opex + rnd + amort\n",
    "    denom = rev\n",
    "\n",
    "    return num / denom\n",
    "\n",
    "def roc_calc(nibt, interest, cap, capleases=0, opleases=0, capint=0, **kwargs):\n",
    "    tax = 1-.375\n",
    "    num = (nibt + interest + (1/3)*capleases)*tax\n",
    "    return num / cap\n",
    "\n",
    "class Driver:\n",
    "    def __init__(self, name, short, func, min_, max_, defn='', *args, **kwargs):\n",
    "        self.name = name\n",
    "        self.short = short\n",
    "        self.func = func\n",
    "        self.min = min_\n",
    "        self.max = max_\n",
    "        self.defn = defn\n",
    "    \n",
    "    @property\n",
    "    def value(self):\n",
    "        return self._value\n",
    "    \n",
    "    def calc(self, *args, **kwargs):\n",
    "        self._value = self.func(*args, **kwargs)\n",
    "        return self._value\n",
    "\n",
    "class Template:\n",
    "    PDs = np.around(\n",
    "        np.array([\n",
    "        0.01, 0.03, 0.04, 0.04, 0.05, 0.08, 0.10, 0.13, 0.17, 0.24, 0.34, \n",
    "        0.53, 0.73, 1.40, 2.45, 6.00, 9.57, 16.72, 33.32\n",
    "        ]) / 100,\n",
    "    5)\n",
    "    ODRs = [10, 21, 24, 27, 31, 34, 37, 41, 44, 47, 51, 54, 57, 61, 64, 67, 70, 75, 80]\n",
    "    SPs = [\n",
    "        'AAA', 'AA+', 'AA', 'AA-', 'A+', 'A', 'A-', 'BBB+', 'BBB', 'BBB-', 'BB+', 'BB',\n",
    "        'BB-', 'B+', 'B', 'B-', 'CCC+', 'CCC-', 'CC'\n",
    "    ]\n",
    "    PDMAP = {pd: {'odr': odr, 's&p': sp} for pd, odr, sp in zip(PDs, ODRs, SPs)}\n",
    "\n",
    "    def __init__(self, name, drivers, coeffs):\n",
    "        self.name = name\n",
    "        self.drivers = drivers\n",
    "        self.coeffs = np.array(coeffs)\n",
    "        self.pdfunc = self.fit_pd_curve()\n",
    "\n",
    "    def drvkey(self):\n",
    "        return {driver.short: driver for driver in self.drivers}\n",
    "    \n",
    "    def drvvals(self):\n",
    "        return {driver.short: driver.value for driver in self.drivers}\n",
    "        \n",
    "    def fit_pd_curve(self):\n",
    "        tscale = np.linspace(1,10,19) + .25\n",
    "        z = np.polyfit(tscale, self.PDs, 9)\n",
    "        pdfunc = np.poly1d(z)\n",
    "\n",
    "        return pdfunc\n",
    "    \n",
    "    def transform(self, driver, a=10, b=1, inv=False):\n",
    "        \"\"\"\n",
    "        Rescales the driver values along a scale between 1 and 10\n",
    "        \"\"\"\n",
    "        x, min_, max_ = driver.value, driver.min, driver.max\n",
    "        if max_ > min_:\n",
    "            x = min_ if x < min_ else (max_ if x > max_ else x)\n",
    "        else:\n",
    "            x = min_ if x > min_ else (max_ if x < max_ else x)\n",
    "        num = (b-a)*(x - min_)\n",
    "        denom = max_ - min_\n",
    "        \n",
    "        return (num / denom) + a\n",
    "    \n",
    "    def transforms(self):\n",
    "        transforms = np.zeros(len(self.drivers))\n",
    "        for i in range(len(self.drivers)):\n",
    "            transforms[i] = self.transform(self.drivers[i])\n",
    "            \n",
    "        return transforms\n",
    "    \n",
    "    def contribs(self):\n",
    "        return self.transforms()*self.coeffs\n",
    "    \n",
    "    def score(self):\n",
    "        return self.contribs().sum()\n",
    "    \n",
    "    def pd(self):\n",
    "        pd = self.pdfunc(self.score())\n",
    "        i_close = np.abs(self.PDs-pd).argmin()\n",
    "        self.SP = self.SPs[i_close]\n",
    "        self.ODR = self.ODRs[i_close]\n",
    "        return pd\n",
    "    \n",
    "    def display(self):\n",
    "        print (self.score())\n",
    "        print (self.drvvals())\n",
    "        print (self.transforms())\n",
    "        print (self.pd(), self.ODR, self.SP)"
   ]
  },
  {
   "cell_type": "code",
   "execution_count": 3,
   "id": "particular-championship",
   "metadata": {},
   "outputs": [],
   "source": [
    "# HTS\n",
    "f2018 = {\n",
    "    'is': {\n",
    "        'rev': 501668839,\n",
    "    }\n",
    "}\n",
    "f2019 = {\n",
    "    'is': {\n",
    "        'rev': 547283000, 'cogs': 387601000+64167000, 'otherinc': 1093000, \n",
    "        'opex':  14289000+47390000+5415000,\n",
    "        'rnd': 0, 'amort': 2563107, 'interest': 1755000,\n",
    "        'ffo': 17549000\n",
    "    },\n",
    "    'bs': {\n",
    "        'ar': 131273000, 'ap': 69800000, 'deposits': 30312000, 'debt': 20000000, \n",
    "        'equity': 62042000-27000000, 'capleases': 9620000, 'goodwill': 27135000,\n",
    "        'assets': 181331323\n",
    "    }\n",
    "}\n",
    "is_ = f2019['is']\n",
    "bs = f2019['bs']\n",
    "is_['ebitda'] = is_['rev'] - is_['cogs'] - is_['opex']\n",
    "is_['nibt'] = is_['ebitda'] - is_['interest'] - is_['amort']\n",
    "\n",
    "bs['cap'] = bs['debt'] + bs['capleases'] + bs['equity']\n",
    "bs['adj_debt'] = bs['debt'] + bs['capleases']"
   ]
  },
  {
   "cell_type": "code",
   "execution_count": 476,
   "id": "binding-december",
   "metadata": {},
   "outputs": [],
   "source": [
    "intcov = Driver('Interest Coverage Ratio', 'intcov', lambda x,y: x/y, 0, 30)\n",
    "opmarg = Driver('Operating Margin', 'opmarg', opmarg_calc, .0129, .5774)\n",
    "roc = Driver('Return on Capital', 'roc', roc_calc, 0, .5696)\n",
    "emarg = Driver('EBITDA Margin', 'emarg', lambda x,y: x/y, -.0022, .2652)\n",
    "rgrowth = Driver('Revenue Growth', 'rgrowth', lambda x,y: (x/y)-1, -.2448, .4381)\n",
    "d2cap = Driver('Debt to Capital', 'd2cap', lambda x,y: x/y, 0, .95)\n",
    "artov = Driver('AR Turnover', 'artov', lambda x,y: x/y, 0, 91.85, defn='Net Sales / AR')\n",
    "debitda = Driver('Debt to EBITDA', 'debitda', lambda x,y: x/y, 5.5, 0, inv=True)\n",
    "logta = Driver('Log of Total Assets', 'logta', lambda x: np.log(x/(10**6)), .7, 10.06)\n",
    "ffo2d = Driver('Funds from Operations', 'ffo2debt', lambda x,y: x/y, 0, .6733)"
   ]
  },
  {
   "cell_type": "code",
   "execution_count": 477,
   "id": "heard-republican",
   "metadata": {},
   "outputs": [
    {
     "data": {
      "text/plain": [
       "5.200325871729319"
      ]
     },
     "execution_count": 477,
     "metadata": {},
     "output_type": "execute_result"
    }
   ],
   "source": [
    "intcov.calc(is_['ebitda'], is_['interest'])\n",
    "emarg.calc(is_['ebitda'], is_['rev'])\n",
    "rgrowth.calc(is_['rev'], f2018['is']['rev'])\n",
    "d2cap.calc(bs['adj_debt'], bs['cap'])\n",
    "logta.calc(bs['assets'])"
   ]
  },
  {
   "cell_type": "code",
   "execution_count": 478,
   "id": "decreased-integral",
   "metadata": {},
   "outputs": [],
   "source": [
    "wholesale = Template(\n",
    "    'Wholesale', [intcov, emarg, rgrowth, d2cap, logta],\n",
    "    [.1004, .176, .2235, .1743, .2312]\n",
    ")"
   ]
  },
  {
   "cell_type": "code",
   "execution_count": 479,
   "id": "after-childhood",
   "metadata": {},
   "outputs": [],
   "source": [
    "opmarg.calc(**is_)\n",
    "artov.calc(is_['rev'], bs['ar'])\n",
    "service = Template(\n",
    "    'Service', [intcov, opmarg, roc, artov, debitda, logta],\n",
    "    [.0916, .1346, .1313, .1541, .1539, .1697]\n",
    ")"
   ]
  },
  {
   "cell_type": "code",
   "execution_count": 480,
   "id": "charitable-machinery",
   "metadata": {},
   "outputs": [],
   "source": [
    "ffo2d.calc(is_['ffo'], bs['adj_debt'])\n",
    "roc = Driver('Return on Capital', 'roc', roc_calc, 0, .2268)\n",
    "roc.calc(**is_, **bs)\n",
    "allind = Template(\n",
    "    'All Industries', [intcov, opmarg, roc, ffo2d, d2cap, logta],\n",
    "    coeffs=[.0827, .2427, .1154, .0195, .1838, .2326]\n",
    ")"
   ]
  },
  {
   "cell_type": "code",
   "execution_count": 482,
   "id": "certain-avatar",
   "metadata": {},
   "outputs": [
    {
     "data": {
      "text/plain": [
       "0.002699098544172829"
      ]
     },
     "execution_count": 482,
     "metadata": {},
     "output_type": "execute_result"
    }
   ],
   "source": [
    "wholesale.pd()"
   ]
  },
  {
   "cell_type": "code",
   "execution_count": 485,
   "id": "protecting-acquisition",
   "metadata": {},
   "outputs": [
    {
     "ename": "SyntaxError",
     "evalue": "invalid syntax (<ipython-input-485-f6c73c02ec0f>, line 1)",
     "output_type": "error",
     "traceback": [
      "\u001b[0;36m  File \u001b[0;32m\"<ipython-input-485-f6c73c02ec0f>\"\u001b[0;36m, line \u001b[0;32m1\u001b[0m\n\u001b[0;31m    Levered Beta Online Service = 4.25 [1 + (1 – 0.4) (0.5357)] = 5.61\u001b[0m\n\u001b[0m            ^\u001b[0m\n\u001b[0;31mSyntaxError\u001b[0m\u001b[0;31m:\u001b[0m invalid syntax\n"
     ]
    }
   ],
   "source": [
    "Levered Beta Online Service = 4.25 [1 + (1 – 0.4) (0.5357)] = 5.61\n",
    "Cost of Equity Online Service = 3.5% + 5.61 (6%) = 37.18%\n",
    "Cost of CapitalOnline Service= 37.18% (0.6516) + 6% (1 – 0.4) (0.3484) = 25.48%"
   ]
  },
  {
   "cell_type": "code",
   "execution_count": null,
   "id": "accurate-block",
   "metadata": {},
   "outputs": [],
   "source": []
  }
 ],
 "metadata": {
  "kernelspec": {
   "display_name": "Python 3",
   "language": "python",
   "name": "python3"
  },
  "language_info": {
   "codemirror_mode": {
    "name": "ipython",
    "version": 3
   },
   "file_extension": ".py",
   "mimetype": "text/x-python",
   "name": "python",
   "nbconvert_exporter": "python",
   "pygments_lexer": "ipython3",
   "version": "3.8.6"
  }
 },
 "nbformat": 4,
 "nbformat_minor": 5
}
